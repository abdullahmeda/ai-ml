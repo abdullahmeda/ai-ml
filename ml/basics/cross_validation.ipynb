{
 "cells": [
  {
   "cell_type": "markdown",
   "id": "3ff99e28",
   "metadata": {},
   "source": [
    "## Cross Validation\n",
    "\n",
    "Cross validation compares different ML methods to see how well they work in practice. It solves the problem of:\n",
    "- **Training**: Estimating parameters (learning from data)\n",
    "- **Testing**: Evaluating performance (how well it works on new data)\n",
    "\n",
    "Key principle: Never use the same data for both training and testing - we need to know how the method performs on data it wasn't trained on.\n"
   ]
  },
  {
   "cell_type": "code",
   "execution_count": 1,
   "id": "ffe0d296",
   "metadata": {},
   "outputs": [
    {
     "data": {
      "text/plain": [
       "((20, 4), (20,))"
      ]
     },
     "execution_count": 1,
     "metadata": {},
     "output_type": "execute_result"
    }
   ],
   "source": [
    "from sklearn.datasets import load_iris\n",
    "\n",
    "X, y = load_iris(return_X_y=True) # A classification dataset\n",
    "X, y = X[:20], y[:20]             # Deal with a smaller dataset\n",
    "\n",
    "X.shape, y.shape"
   ]
  },
  {
   "cell_type": "markdown",
   "id": "8b53d735",
   "metadata": {},
   "source": [
    "#### K-Fold Cross Validation\n",
    "Divides data into K blocks. Each block is used once for testing while the rest train the model. All data gets used for both training and testing.\n"
   ]
  },
  {
   "cell_type": "code",
   "execution_count": 2,
   "id": "4ab8225b",
   "metadata": {},
   "outputs": [
    {
     "name": "stdout",
     "output_type": "stream",
     "text": [
      "Fold 1   |   Train index: [ 2  3  4  5  6  7  8  9 10 11 12 13 14 16 18 19]   |   Test index: [ 0  1 15 17]\n",
      "Fold 2   |   Train index: [ 0  1  2  4  6  7  9 10 12 13 14 15 16 17 18 19]   |   Test index: [ 3  5  8 11]\n",
      "Fold 3   |   Train index: [ 0  1  3  4  5  6  7  8  9 10 11 12 14 15 17 19]   |   Test index: [ 2 13 16 18]\n",
      "Fold 4   |   Train index: [ 0  1  2  3  5  6  7  8 10 11 13 14 15 16 17 18]   |   Test index: [ 4  9 12 19]\n",
      "Fold 5   |   Train index: [ 0  1  2  3  4  5  8  9 11 12 13 15 16 17 18 19]   |   Test index: [ 6  7 10 14]\n"
     ]
    }
   ],
   "source": [
    "from sklearn.model_selection import KFold\n",
    "\n",
    "kf = KFold(\n",
    "    n_splits=5,\n",
    "    shuffle=True,\n",
    "    random_state=42\n",
    ")\n",
    "\n",
    "for i, (train_index, test_index) in enumerate(kf.split(X), start=1):\n",
    "    print(f\"Fold {i}   |   Train index: {train_index}   |   Test index: {test_index}\")"
   ]
  },
  {
   "cell_type": "markdown",
   "id": "948afd86",
   "metadata": {},
   "source": [
    "#### Stratified K-Fold\n",
    "Maintains the same proportion of each class in every fold. Essential for imbalanced datasets to ensure each fold represents the overall class distribution.\n"
   ]
  },
  {
   "cell_type": "code",
   "execution_count": 3,
   "id": "83b1eec6",
   "metadata": {},
   "outputs": [
    {
     "name": "stdout",
     "output_type": "stream",
     "text": [
      "Fold 1   |   Train index: [ 1  2  4  5  6  8  9 10 12 13 14 15 16 17 18 19]   |   Test index: [ 0  3  7 11]\n",
      "Fold 2   |   Train index: [ 0  1  2  3  4  6  7  8  9 10 11 12 13 15 17 18]   |   Test index: [ 5 14 16 19]\n",
      "Fold 3   |   Train index: [ 0  1  2  3  5  7  8  9 10 11 13 14 15 16 18 19]   |   Test index: [ 4  6 12 17]\n",
      "Fold 4   |   Train index: [ 0  1  3  4  5  6  7  8  9 11 12 13 14 16 17 19]   |   Test index: [ 2 10 15 18]\n",
      "Fold 5   |   Train index: [ 0  2  3  4  5  6  7 10 11 12 14 15 16 17 18 19]   |   Test index: [ 1  8  9 13]\n"
     ]
    }
   ],
   "source": [
    "from sklearn.model_selection import StratifiedKFold\n",
    "\n",
    "skf = StratifiedKFold(\n",
    "    n_splits=5,\n",
    "    shuffle=True,\n",
    "    random_state=42\n",
    ")\n",
    "\n",
    "for i, (train_index, test_index) in enumerate(skf.split(X, y), start=1):\n",
    "    print(f\"Fold {i}   |   Train index: {train_index}   |   Test index: {test_index}\")"
   ]
  },
  {
   "cell_type": "markdown",
   "id": "fe80410a",
   "metadata": {},
   "source": [
    "#### Leave One Out Cross Validation (LOOCV)\n",
    "Extreme case where each sample is a test set. Trains on n-1 samples, tests on 1. Provides most data for training but computationally expensive.\n"
   ]
  },
  {
   "cell_type": "code",
   "execution_count": 4,
   "id": "535f7236",
   "metadata": {},
   "outputs": [
    {
     "name": "stdout",
     "output_type": "stream",
     "text": [
      "Fold 01   |   Train index: [ 1  2  3  4  5  6  7  8  9 10 11 12 13 14 15 16 17 18 19]   |   Test index: [0]\n",
      "Fold 02   |   Train index: [ 0  2  3  4  5  6  7  8  9 10 11 12 13 14 15 16 17 18 19]   |   Test index: [1]\n",
      "Fold 03   |   Train index: [ 0  1  3  4  5  6  7  8  9 10 11 12 13 14 15 16 17 18 19]   |   Test index: [2]\n",
      "Fold 04   |   Train index: [ 0  1  2  4  5  6  7  8  9 10 11 12 13 14 15 16 17 18 19]   |   Test index: [3]\n",
      "Fold 05   |   Train index: [ 0  1  2  3  5  6  7  8  9 10 11 12 13 14 15 16 17 18 19]   |   Test index: [4]\n",
      "Fold 06   |   Train index: [ 0  1  2  3  4  6  7  8  9 10 11 12 13 14 15 16 17 18 19]   |   Test index: [5]\n",
      "Fold 07   |   Train index: [ 0  1  2  3  4  5  7  8  9 10 11 12 13 14 15 16 17 18 19]   |   Test index: [6]\n",
      "Fold 08   |   Train index: [ 0  1  2  3  4  5  6  8  9 10 11 12 13 14 15 16 17 18 19]   |   Test index: [7]\n",
      "Fold 09   |   Train index: [ 0  1  2  3  4  5  6  7  9 10 11 12 13 14 15 16 17 18 19]   |   Test index: [8]\n",
      "Fold 10   |   Train index: [ 0  1  2  3  4  5  6  7  8 10 11 12 13 14 15 16 17 18 19]   |   Test index: [9]\n",
      "Fold 11   |   Train index: [ 0  1  2  3  4  5  6  7  8  9 11 12 13 14 15 16 17 18 19]   |   Test index: [10]\n",
      "Fold 12   |   Train index: [ 0  1  2  3  4  5  6  7  8  9 10 12 13 14 15 16 17 18 19]   |   Test index: [11]\n",
      "Fold 13   |   Train index: [ 0  1  2  3  4  5  6  7  8  9 10 11 13 14 15 16 17 18 19]   |   Test index: [12]\n",
      "Fold 14   |   Train index: [ 0  1  2  3  4  5  6  7  8  9 10 11 12 14 15 16 17 18 19]   |   Test index: [13]\n",
      "Fold 15   |   Train index: [ 0  1  2  3  4  5  6  7  8  9 10 11 12 13 15 16 17 18 19]   |   Test index: [14]\n",
      "Fold 16   |   Train index: [ 0  1  2  3  4  5  6  7  8  9 10 11 12 13 14 16 17 18 19]   |   Test index: [15]\n",
      "Fold 17   |   Train index: [ 0  1  2  3  4  5  6  7  8  9 10 11 12 13 14 15 17 18 19]   |   Test index: [16]\n",
      "Fold 18   |   Train index: [ 0  1  2  3  4  5  6  7  8  9 10 11 12 13 14 15 16 18 19]   |   Test index: [17]\n",
      "Fold 19   |   Train index: [ 0  1  2  3  4  5  6  7  8  9 10 11 12 13 14 15 16 17 19]   |   Test index: [18]\n",
      "Fold 20   |   Train index: [ 0  1  2  3  4  5  6  7  8  9 10 11 12 13 14 15 16 17 18]   |   Test index: [19]\n"
     ]
    }
   ],
   "source": [
    "from sklearn.model_selection import LeaveOneOut\n",
    "\n",
    "loo = LeaveOneOut()\n",
    "\n",
    "for i, (train_index, test_index) in enumerate(loo.split(X), start=1):\n",
    "    print(f\"Fold {str(i).zfill(2)}   |   Train index: {train_index}   |   Test index: {test_index}\")"
   ]
  },
  {
   "cell_type": "markdown",
   "id": "972769cf",
   "metadata": {},
   "source": [
    "#### Repeated Stratified K-Fold\n",
    "Runs stratified k-fold multiple times with different random splits. Provides more robust performance estimates by averaging results across different data partitions.\n"
   ]
  },
  {
   "cell_type": "code",
   "execution_count": 5,
   "id": "331b4499",
   "metadata": {},
   "outputs": [
    {
     "name": "stdout",
     "output_type": "stream",
     "text": [
      "Fold 01   |   Train index: [ 1  2  4  5  6  8  9 10 12 13 14 15 16 17 18 19]   |   Test index: [ 0  3  7 11]\n",
      "Fold 02   |   Train index: [ 0  1  2  3  4  6  7  8  9 10 11 12 13 15 17 18]   |   Test index: [ 5 14 16 19]\n",
      "Fold 03   |   Train index: [ 0  1  2  3  5  7  8  9 10 11 13 14 15 16 18 19]   |   Test index: [ 4  6 12 17]\n",
      "Fold 04   |   Train index: [ 0  1  3  4  5  6  7  8  9 11 12 13 14 16 17 19]   |   Test index: [ 2 10 15 18]\n",
      "Fold 05   |   Train index: [ 0  2  3  4  5  6  7 10 11 12 14 15 16 17 18 19]   |   Test index: [ 1  8  9 13]\n",
      "Fold 06   |   Train index: [ 0  1  2  3  4  5  6  7  9 11 12 13 14 15 16 17]   |   Test index: [ 8 10 18 19]\n",
      "Fold 07   |   Train index: [ 0  1  2  5  6  8 10 11 12 13 14 15 16 17 18 19]   |   Test index: [3 4 7 9]\n",
      "Fold 08   |   Train index: [ 0  1  2  3  4  5  6  7  8  9 10 12 14 16 18 19]   |   Test index: [11 13 15 17]\n",
      "Fold 09   |   Train index: [ 0  1  3  4  7  8  9 10 11 13 14 15 16 17 18 19]   |   Test index: [ 2  5  6 12]\n",
      "Fold 10   |   Train index: [ 2  3  4  5  6  7  8  9 10 11 12 13 15 17 18 19]   |   Test index: [ 0  1 14 16]\n",
      "Fold 11   |   Train index: [ 0  1  4  5  6  7  8  9 10 11 13 14 15 17 18 19]   |   Test index: [ 2  3 12 16]\n",
      "Fold 12   |   Train index: [ 0  2  3  5  6  7  9 10 11 12 13 14 15 16 17 19]   |   Test index: [ 1  4  8 18]\n",
      "Fold 13   |   Train index: [ 1  2  3  4  5  6  7  8  9 10 12 13 15 16 17 18]   |   Test index: [ 0 11 14 19]\n",
      "Fold 14   |   Train index: [ 0  1  2  3  4  5  6  8 11 12 14 15 16 17 18 19]   |   Test index: [ 7  9 10 13]\n",
      "Fold 15   |   Train index: [ 0  1  2  3  4  7  8  9 10 11 12 13 14 16 18 19]   |   Test index: [ 5  6 15 17]\n"
     ]
    }
   ],
   "source": [
    "from sklearn.model_selection import RepeatedStratifiedKFold\n",
    "\n",
    "rskf = RepeatedStratifiedKFold(\n",
    "    n_splits=5,\n",
    "    n_repeats=3,\n",
    "    random_state=42\n",
    ")\n",
    "\n",
    "for i, (train_index, test_index) in enumerate(rskf.split(X, y), start=1):\n",
    "    print(f\"Fold {str(i).zfill(2)}   |   Train index: {train_index}   |   Test index: {test_index}\")"
   ]
  },
  {
   "cell_type": "markdown",
   "id": "50c7650a",
   "metadata": {},
   "source": [
    "#### Stratified Group K-Fold\n",
    "Combines group-based splitting with stratification. Keeps related samples (groups) together while maintaining class proportions. Prevents data leakage when samples are naturally grouped.\n",
    "\n",
    "**Example**: Medical dataset with multiple lab tests per patient. You want to predict disease but need to ensure all tests from one patient stay in the same fold (no patient in both train/test) while maintaining diseased/healthy ratios.\n"
   ]
  },
  {
   "cell_type": "code",
   "execution_count": 6,
   "id": "c2e8f80d",
   "metadata": {},
   "outputs": [
    {
     "name": "stdout",
     "output_type": "stream",
     "text": [
      "Fold 1   |   Train Groups: [2, 3, 4, 6, 7, 8, 9]   |   Test Groups: [1, 5, 10]   |   Overlap: 0\n",
      "Fold 2   |   Train Groups: [1, 3, 4, 5, 7, 8, 9, 10]   |   Test Groups: [2, 6]   |   Overlap: 0\n",
      "Fold 3   |   Train Groups: [1, 2, 4, 5, 6, 8, 10]   |   Test Groups: [3, 7, 9]   |   Overlap: 0\n",
      "Fold 4   |   Train Groups: [1, 2, 3, 5, 6, 7, 9, 10]   |   Test Groups: [4, 8]   |   Overlap: 0\n"
     ]
    }
   ],
   "source": [
    "from sklearn.model_selection import StratifiedGroupKFold\n",
    "import numpy as np\n",
    "\n",
    "# Create groups - specifying which sample belongs to which group\n",
    "groups = np.array([1, 1, 2, 2, 3, 3, 4, 4, 5, 5, 6, 6, 7, 7, 8, 8, 9, 9, 10, 10])\n",
    "\n",
    "sgkf = StratifiedGroupKFold(\n",
    "    n_splits=4,\n",
    "    shuffle=True, \n",
    "    random_state=42\n",
    ")\n",
    "\n",
    "for i, (train_index, test_index) in enumerate(sgkf.split(X, y, groups), start=1):\n",
    "    # Show that groups don't overlap between train/test\n",
    "    train_groups = sorted([int(x) for x in set(groups[train_index])])\n",
    "    test_groups = sorted([int(x) for x in set(groups[test_index])])\n",
    "    print(f\"Fold {i}   |   Train Groups: {train_groups}   |   Test Groups: {test_groups}   |   Overlap: {len(np.intersect1d(train_groups, test_groups))}\")\n"
   ]
  },
  {
   "cell_type": "markdown",
   "id": "07bccbb6",
   "metadata": {},
   "source": [
    "#### Sample Usage"
   ]
  },
  {
   "cell_type": "code",
   "execution_count": 7,
   "id": "1d520c25",
   "metadata": {},
   "outputs": [
    {
     "name": "stdout",
     "output_type": "stream",
     "text": [
      "Cross Validation Scores:  [1. 1. 1. 1. 1. 1. 1. 1. 1. 1. 1. 1. 1. 1. 1.]\n",
      "Average CV Score:  1.0\n",
      "Number of CV Scores used in Average:  15\n"
     ]
    }
   ],
   "source": [
    "from sklearn.tree import DecisionTreeClassifier\n",
    "from sklearn.model_selection import cross_val_score\n",
    "\n",
    "clf = DecisionTreeClassifier(random_state=42)\n",
    "\n",
    "scores = cross_val_score(clf, X, y, cv=rskf)\n",
    "\n",
    "print(\"Cross Validation Scores: \", scores)\n",
    "print(\"Average CV Score: \", scores.mean())\n",
    "print(\"Number of CV Scores used in Average: \", len(scores))"
   ]
  },
  {
   "cell_type": "code",
   "execution_count": null,
   "id": "bba81332",
   "metadata": {},
   "outputs": [],
   "source": []
  }
 ],
 "metadata": {
  "kernelspec": {
   "display_name": "base",
   "language": "python",
   "name": "python3"
  },
  "language_info": {
   "codemirror_mode": {
    "name": "ipython",
    "version": 3
   },
   "file_extension": ".py",
   "mimetype": "text/x-python",
   "name": "python",
   "nbconvert_exporter": "python",
   "pygments_lexer": "ipython3",
   "version": "3.12.3"
  }
 },
 "nbformat": 4,
 "nbformat_minor": 5
}

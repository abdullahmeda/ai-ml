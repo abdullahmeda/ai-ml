{
 "cells": [
  {
   "cell_type": "markdown",
   "id": "b2a189d6",
   "metadata": {},
   "source": [
    "# Entropy\n",
    "\n",
    "- StatQuest Video: https://youtu.be/YtebGVx-Fxw\n",
    "\n",
    "Entropy is a way to quantify the similarity or difference in a set of things. For example, it can tell us how mixed a group of orange and blue chickens is. Before we can understand Entropy, we must first get an intuitive grasp of Surprise.\n",
    "\n",
    "Think about what it means to be surprised. You are surprised by events that you didn't expect. If something happens that you were already certain would happen, you feel no surprise at all.\n",
    "\n",
    "This leads us to a core relationship:\n",
    "> **Surprise is inversely related to probability.**\n",
    "> *   An outcome with a **low probability** is highly **surprising**.\n",
    "> *   An outcome with a **high probability** is **not surprising**."
   ]
  },
  {
   "cell_type": "markdown",
   "id": "e844ddf5",
   "metadata": {},
   "source": [
    "We need a mathematical formula that behaves exactly like our intuition.\n",
    "\n",
    "1.  A good first guess is `1 / Probability`. This captures the inverse relationship perfectly: as the probability gets smaller, the result gets larger.\n",
    "2.  However, there's one problem. For an event that is **certain** (a probability of 1), our feeling of surprise is **zero**. But this formula gives us `1 / 1 = 1`.\n",
    "3.  To fix this, we use the logarithm function, because `log(1) = 0`. This is the exact property we need!\n",
    "\n",
    "The final formula for Surprise is:\n",
    "**`Surprise = log(1 / Probability)`**\n",
    "\n",
    "*   When the probability is 1 (certainty), the Surprise is `log(1) = 0`.\n",
    "*   When the probability is very low (an unexpected event), the Surprise is `log(a very large number)`, which results in a high value.\n",
    "\n",
    "*Note: In information theory, it's customary to use log base 2, but the concept holds for any base.*"
   ]
  },
  {
   "cell_type": "code",
   "execution_count": 38,
   "id": "4550f782",
   "metadata": {},
   "outputs": [],
   "source": [
    "import numpy as np\n",
    "import matplotlib.pyplot as plt\n",
    "\n",
    "def calculate_surprise(probability):\n",
    "    \"\"\"Calculates the surprise in bits for a given probability.\"\"\"\n",
    "    if type(probability) == float and probability == 0:\n",
    "        return 0\n",
    "\n",
    "    # Surprise = log2(1 / p(x))\n",
    "    return np.log2(1 / probability)"
   ]
  },
  {
   "cell_type": "markdown",
   "id": "c67b527b",
   "metadata": {},
   "source": [
    "Let's visualize how probability affects surprise. As we can see in the graph below, when an event is certain (probability = 1), there is no surprise. But as the probability decreases, the surprise increases dramatically."
   ]
  },
  {
   "cell_type": "code",
   "execution_count": null,
   "id": "3c21b7f8",
   "metadata": {},
   "outputs": [
    {
     "data": {
      "image/png": "[encoded data removed]",
      "text/plain": [
       "<Figure size 700x300 with 1 Axes>"
      ]
     },
     "metadata": {},
     "output_type": "display_data"
    }
   ],
   "source": [
    "# We'll start just above 0 to avoid a 'division by zero' error.\n",
    "probabilities = np.linspace(0.01, 1, 200) # 200 points for a smooth curve\n",
    "\n",
    "surprise_values = calculate_surprise(probabilities)\n",
    "\n",
    "# Plot how the probability of an event affects the surprise\n",
    "fig, ax = plt.subplots(figsize=(7, 3))\n",
    "ax.set_xlabel(\"Probability\", fontsize=10)\n",
    "ax.set_ylabel(\"Surprise\", fontsize=10)\n",
    "ax.set_title(\"The Relationship Between Probability and Surprise\", fontsize=13)\n",
    "_ = plt.plot(probabilities, surprise_values)"
   ]
  },
  {
   "cell_type": "markdown",
   "id": "4c9249a8",
   "metadata": {},
   "source": [
    "Now that we can calculate the surprise for any *single* outcome, we can define Entropy.\n",
    "\n",
    "> **Entropy is the Expected Value of the Surprise.**\n",
    "\n",
    "In other words, Entropy is the **average amount of surprise** we should expect from a system with multiple possible outcomes. It measures the system's overall uncertainty or unpredictability.\n",
    "\n",
    "The formula for an Expected Value is a weighted average: $\\Sigma (\\text{value} \\times \\text{probability of value})$. For Entropy, our \"value\" is the Surprise.\n",
    "\n",
    "$$\\text{Entropy} = \\Sigma [ \\text{Surprise}(x) \\times p(x) ]$$\n",
    "\n",
    "If we substitute our formula for Surprise, we get the most intuitive equation for Entropy:\n",
    "\n",
    "$$\\text{Entropy} = \\Sigma [ p(x) \\times \\log(1 / p(x)) ]$$\n",
    "\n",
    "*   **Low Entropy:** A system has low entropy if one outcome is highly likely. The average surprise is low because you are rarely surprised. This indicates a \"pure\" or predictable system.\n",
    "*   **High Entropy:** A system has high entropy if all outcomes are equally likely. The average surprise is high because you are always uncertain about what will happen next. This indicates a \"mixed\" or unpredictable system.\n"
   ]
  },
  {
   "cell_type": "code",
   "execution_count": 32,
   "id": "3577d2d7",
   "metadata": {},
   "outputs": [],
   "source": [
    "def calculate_entropy(probabilities):\n",
    "    \"\"\"Calculates the entropy in bits for a given list of probabilities.\"\"\"\n",
    "    \n",
    "    # Entropy = -sum(p(x) * log2(p(x)))\n",
    "    total_entropy = 0\n",
    "    for p in probabilities:\n",
    "        surprise = calculate_surprise(p)\n",
    "        total_entropy += p * surprise\n",
    "    \n",
    "    return total_entropy"
   ]
  },
  {
   "cell_type": "code",
   "execution_count": 33,
   "id": "7d75fcc7",
   "metadata": {},
   "outputs": [
    {
     "name": "stdout",
     "output_type": "stream",
     "text": [
      "Entropy: 0.5916727785823275\n"
     ]
    }
   ],
   "source": [
    "probs = [6/7, 1/7]\n",
    "\n",
    "print(f\"Entropy: {calculate_entropy(probs)}\")"
   ]
  },
  {
   "cell_type": "code",
   "execution_count": 34,
   "id": "aad6b5e6",
   "metadata": {},
   "outputs": [
    {
     "name": "stdout",
     "output_type": "stream",
     "text": [
      "Entropy: 0.4394969869215134\n"
     ]
    }
   ],
   "source": [
    "probs = [1/11, 10/11]\n",
    "\n",
    "print(f\"Entropy: {calculate_entropy(probs)}\")"
   ]
  },
  {
   "cell_type": "code",
   "execution_count": 35,
   "id": "8799febd",
   "metadata": {},
   "outputs": [
    {
     "name": "stdout",
     "output_type": "stream",
     "text": [
      "Entropy: 1.0\n"
     ]
    }
   ],
   "source": [
    "probs = [7/14, 7/14] # Perfectly impure, has an entropy of 1\n",
    "\n",
    "print(f\"Entropy: {calculate_entropy(probs)}\")"
   ]
  },
  {
   "cell_type": "code",
   "execution_count": 36,
   "id": "33e266aa",
   "metadata": {},
   "outputs": [
    {
     "name": "stdout",
     "output_type": "stream",
     "text": [
      "Entropy: 0.0\n"
     ]
    }
   ],
   "source": [
    "probs = [0.0, 1.0] # Perfectly pure, has an entropy of 0\n",
    "\n",
    "print(f\"Entropy: {calculate_entropy(probs)}\")"
   ]
  },
  {
   "cell_type": "code",
   "execution_count": null,
   "id": "5d2f76b0",
   "metadata": {},
   "outputs": [],
   "source": []
  }
 ],
 "metadata": {
  "kernelspec": {
   "display_name": ".venv",
   "language": "python",
   "name": "python3"
  },
  "language_info": {
   "codemirror_mode": {
    "name": "ipython",
    "version": 3
   },
   "file_extension": ".py",
   "mimetype": "text/x-python",
   "name": "python",
   "nbconvert_exporter": "python",
   "pygments_lexer": "ipython3",
   "version": "3.12.1"
  }
 },
 "nbformat": 4,
 "nbformat_minor": 5
}

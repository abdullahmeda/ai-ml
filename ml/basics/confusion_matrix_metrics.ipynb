{
 "cells": [
  {
   "cell_type": "raw",
   "metadata": {
    "vscode": {
     "languageId": "raw"
    }
   },
   "source": [
    "# Confusion Matrix, Sensitivity & Specificity\n",
    "\n",
    "- StatQuest Videos: \n",
    "  - Confusion Matrix: https://youtu.be/Kdsp6soqA7o\n",
    "  - Sensitivity & Specificity: https://youtu.be/vP06aMoz4v8\n",
    "- SKLearn Docs: https://scikit-learn.org/stable/modules/model_evaluation.html\n",
    "\n",
    "The confusion matrix shows what your machine learning algorithm predicted vs. the known truth. It helps evaluate and compare different ML methods by summarizing their performance on test data.\n",
    "\n",
    "**⚠️ Convention Note**: StatQuest videos use \"Rows = predictions, Columns = actual truth\" but **sklearn uses the opposite**: \"Rows = actual truth, Columns = predictions\". This notebook follows sklearn's convention.\n"
   ]
  },
  {
   "cell_type": "code",
   "execution_count": 6,
   "id": "b0ef18c0",
   "metadata": {},
   "outputs": [
    {
     "name": "stdout",
     "output_type": "stream",
     "text": [
      "Training set: (210, 4), Test set: (90, 4)\n",
      "Class distribution in test: [42 48]\n"
     ]
    }
   ],
   "source": [
    "from sklearn.datasets import make_classification\n",
    "from sklearn.model_selection import train_test_split\n",
    "from sklearn.ensemble import RandomForestClassifier\n",
    "from sklearn.linear_model import LogisticRegression\n",
    "from sklearn.metrics import confusion_matrix, classification_report\n",
    "import numpy as np\n",
    "\n",
    "# Create sample heart disease dataset\n",
    "X, y = make_classification(n_samples=300, n_features=4, n_classes=2, \n",
    "                          n_redundant=0, random_state=42)\n",
    "\n",
    "# Split into train/test\n",
    "X_train, X_test, y_train, y_test = train_test_split(X, y, test_size=0.3, random_state=42)\n",
    "\n",
    "print(f\"Training set: {X_train.shape}, Test set: {X_test.shape}\")\n",
    "print(f\"Class distribution in test: {np.bincount(y_test)}\")\n"
   ]
  },
  {
   "cell_type": "raw",
   "metadata": {
    "vscode": {
     "languageId": "raw"
    }
   },
   "source": [
    "### Binary Classification Confusion Matrix\n",
    "\n",
    "**Important**: Sklearn uses **Rows = True labels, Columns = Predicted labels** (opposite of StatQuest videos!)\n",
    "\n",
    "For 2-class problems (e.g., has disease / no disease) in sklearn:\n",
    "- **True Negatives (TN)**: Top-left [0,0] - correctly predicted negative cases  \n",
    "- **False Positives (FP)**: Top-right [0,1] - incorrectly predicted positive cases (Type I error)\n",
    "- **False Negatives (FN)**: Bottom-left [1,0] - missed positive cases (Type II error)\n",
    "- **True Positives (TP)**: Bottom-right [1,1] - correctly predicted positive cases\n",
    "\n",
    "```\n",
    "                Predicted\n",
    "              0       1\n",
    "True    0   TN      FP\n",
    "        1   FN      TP\n",
    "```\n",
    "\n",
    "Diagonal elements = correct predictions, off-diagonal = mistakes\n"
   ]
  },
  {
   "cell_type": "code",
   "execution_count": 2,
   "id": "9146737d",
   "metadata": {},
   "outputs": [
    {
     "name": "stdout",
     "output_type": "stream",
     "text": [
      "Random Forest Confusion Matrix:\n",
      "[[41  1]\n",
      " [ 3 45]]\n",
      "TP: 45, TN: 41, FP: 1, FN: 3\n",
      "\n",
      "Logistic Regression Confusion Matrix:\n",
      "[[40  2]\n",
      " [ 3 45]]\n",
      "TP: 45, TN: 40, FP: 2, FN: 3\n"
     ]
    }
   ],
   "source": [
    "# Train different models\n",
    "rf = RandomForestClassifier(random_state=42)\n",
    "lr = LogisticRegression(random_state=42)\n",
    "\n",
    "rf.fit(X_train, y_train)\n",
    "lr.fit(X_train, y_train)\n",
    "\n",
    "# Get predictions\n",
    "rf_pred = rf.predict(X_test)\n",
    "lr_pred = lr.predict(X_test)\n",
    "\n",
    "# Create confusion matrices\n",
    "rf_cm = confusion_matrix(y_test, rf_pred)\n",
    "lr_cm = confusion_matrix(y_test, lr_pred)\n",
    "\n",
    "print(\"Random Forest Confusion Matrix:\")\n",
    "print(rf_cm)\n",
    "print(f\"TP: {rf_cm[1,1]}, TN: {rf_cm[0,0]}, FP: {rf_cm[0,1]}, FN: {rf_cm[1,0]}\")\n",
    "\n",
    "print(\"\\nLogistic Regression Confusion Matrix:\")\n",
    "print(lr_cm)\n",
    "print(f\"TP: {lr_cm[1,1]}, TN: {lr_cm[0,0]}, FP: {lr_cm[0,1]}, FN: {lr_cm[1,0]}\")\n"
   ]
  },
  {
   "cell_type": "code",
   "execution_count": null,
   "id": "bcb8f2ff",
   "metadata": {},
   "outputs": [],
   "source": []
  },
  {
   "cell_type": "raw",
   "metadata": {
    "vscode": {
     "languageId": "raw"
    }
   },
   "source": [
    "### Sensitivity and Specificity\n",
    "\n",
    "**Sensitivity (Recall, True Positive Rate)**:\n",
    "- What percentage of actual positives were correctly identified?\n",
    "- Formula: `TP / (TP + FN)`\n",
    "- High sensitivity = few false negatives (good at catching positives)\n",
    "\n",
    "**Specificity (True Negative Rate)**:\n",
    "- What percentage of actual negatives were correctly identified?  \n",
    "- Formula: `TN / (TN + FP)`\n",
    "- High specificity = few false positives (good at identifying negatives)\n"
   ]
  },
  {
   "cell_type": "code",
   "execution_count": 3,
   "id": "60dd9cb2",
   "metadata": {},
   "outputs": [
    {
     "name": "stdout",
     "output_type": "stream",
     "text": [
      "Random Forest:\n",
      "  Sensitivity: 0.938 (93.8% of positives correctly identified)\n",
      "  Specificity: 0.976 (97.6% of negatives correctly identified)\n",
      "\n",
      "Logistic Regression:\n",
      "  Sensitivity: 0.938 (93.8% of positives correctly identified)\n",
      "  Specificity: 0.952 (95.2% of negatives correctly identified)\n",
      "\n",
      "Comparison:\n",
      "Better sensitivity: Logistic Regression\n",
      "Better specificity: Random Forest\n"
     ]
    }
   ],
   "source": [
    "# Calculate sensitivity and specificity manually\n",
    "def calc_metrics(cm):\n",
    "    tn, fp, fn, tp = cm.ravel()\n",
    "    sensitivity = tp / (tp + fn)\n",
    "    specificity = tn / (tn + fp)\n",
    "    return sensitivity, specificity\n",
    "\n",
    "# Random Forest metrics\n",
    "rf_sens, rf_spec = calc_metrics(rf_cm)\n",
    "print(f\"Random Forest:\")\n",
    "print(f\"  Sensitivity: {rf_sens:.3f} ({rf_sens:.1%} of positives correctly identified)\")\n",
    "print(f\"  Specificity: {rf_spec:.3f} ({rf_spec:.1%} of negatives correctly identified)\")\n",
    "\n",
    "# Logistic Regression metrics  \n",
    "lr_sens, lr_spec = calc_metrics(lr_cm)\n",
    "print(f\"\\nLogistic Regression:\")\n",
    "print(f\"  Sensitivity: {lr_sens:.3f} ({lr_sens:.1%} of positives correctly identified)\")\n",
    "print(f\"  Specificity: {lr_spec:.3f} ({lr_spec:.1%} of negatives correctly identified)\")\n",
    "\n",
    "print(f\"\\nComparison:\")\n",
    "print(f\"Better sensitivity: {'Random Forest' if rf_sens > lr_sens else 'Logistic Regression'}\")\n",
    "print(f\"Better specificity: {'Random Forest' if rf_spec > lr_spec else 'Logistic Regression'}\")\n"
   ]
  },
  {
   "cell_type": "raw",
   "metadata": {
    "vscode": {
     "languageId": "raw"
    }
   },
   "source": [
    "### Multi-Class Classification\n",
    "\n",
    "For 3+ classes, confusion matrices get larger (e.g., 3x3 for 3 classes). Key differences:\n",
    "- **No single sensitivity/specificity** for the entire matrix\n",
    "- Calculate **separate metrics for each class** \n",
    "- For each class: treat it as \"positive\" and all others as \"negative\"\n",
    "- Diagonal still shows correct predictions\n"
   ]
  },
  {
   "cell_type": "code",
   "execution_count": 4,
   "id": "3b2abe04",
   "metadata": {},
   "outputs": [
    {
     "name": "stdout",
     "output_type": "stream",
     "text": [
      "Multi-class Confusion Matrix (3x3):\n",
      "[[37  5  3]\n",
      " [ 6 36  0]\n",
      " [ 1  1 31]]\n",
      "Classes: [0 1 2]\n",
      "\n",
      "Class 0:\n",
      "  Sensitivity: 0.822 (82.2% of Class 0 correctly identified)\n",
      "  Specificity: 0.907 (90.7% of non-Class 0 correctly identified)\n",
      "\n",
      "Class 1:\n",
      "  Sensitivity: 0.857 (85.7% of Class 1 correctly identified)\n",
      "  Specificity: 0.923 (92.3% of non-Class 1 correctly identified)\n",
      "\n",
      "Class 2:\n",
      "  Sensitivity: 0.939 (93.9% of Class 2 correctly identified)\n",
      "  Specificity: 0.966 (96.6% of non-Class 2 correctly identified)\n"
     ]
    }
   ],
   "source": [
    "# Create multi-class dataset (3 classes - like movie preferences)\n",
    "X_multi, y_multi = make_classification(n_samples=400, n_features=4, n_classes=3, \n",
    "                                      n_redundant=0, n_clusters_per_class=1, random_state=42)\n",
    "\n",
    "X_train_m, X_test_m, y_train_m, y_test_m = train_test_split(X_multi, y_multi, test_size=0.3, random_state=42)\n",
    "\n",
    "# Train model and get predictions\n",
    "rf_multi = RandomForestClassifier(random_state=42)\n",
    "rf_multi.fit(X_train_m, y_train_m)\n",
    "pred_multi = rf_multi.predict(X_test_m)\n",
    "\n",
    "# Multi-class confusion matrix\n",
    "cm_multi = confusion_matrix(y_test_m, pred_multi)\n",
    "print(\"Multi-class Confusion Matrix (3x3):\")\n",
    "print(cm_multi)\n",
    "print(f\"Classes: {np.unique(y_multi)}\")\n",
    "\n",
    "# Calculate per-class sensitivity and specificity\n",
    "class_names = [\"Class 0\", \"Class 1\", \"Class 2\"]\n",
    "for i, class_name in enumerate(class_names):\n",
    "    # For class i: TP = cm[i,i], FN = sum of row i except diagonal\n",
    "    tp = cm_multi[i, i]\n",
    "    fn = cm_multi[i, :].sum() - tp\n",
    "    fp = cm_multi[:, i].sum() - tp  \n",
    "    tn = cm_multi.sum() - tp - fn - fp\n",
    "    \n",
    "    sensitivity = tp / (tp + fn) if (tp + fn) > 0 else 0\n",
    "    specificity = tn / (tn + fp) if (tn + fp) > 0 else 0\n",
    "    \n",
    "    print(f\"\\n{class_name}:\")\n",
    "    print(f\"  Sensitivity: {sensitivity:.3f} ({sensitivity:.1%} of {class_name} correctly identified)\")\n",
    "    print(f\"  Specificity: {specificity:.3f} ({specificity:.1%} of non-{class_name} correctly identified)\")\n"
   ]
  },
  {
   "cell_type": "raw",
   "metadata": {
    "vscode": {
     "languageId": "raw"
    }
   },
   "source": [
    "### Using Sklearn's Built-in Functions\n"
   ]
  },
  {
   "cell_type": "code",
   "execution_count": 5,
   "id": "073f2c9b",
   "metadata": {},
   "outputs": [
    {
     "name": "stdout",
     "output_type": "stream",
     "text": [
      "Binary Classification Report:\n",
      "              precision    recall  f1-score   support\n",
      "\n",
      "  No Disease       0.93      0.98      0.95        42\n",
      " Has Disease       0.98      0.94      0.96        48\n",
      "\n",
      "    accuracy                           0.96        90\n",
      "   macro avg       0.96      0.96      0.96        90\n",
      "weighted avg       0.96      0.96      0.96        90\n",
      "\n"
     ]
    },
    {
     "data": {
      "image/png": "[encoded data removed]",
      "text/plain": [
       "<Figure size 1200x400 with 4 Axes>"
      ]
     },
     "metadata": {},
     "output_type": "display_data"
    },
    {
     "name": "stdout",
     "output_type": "stream",
     "text": [
      "\n",
      "Multi-class Classification Report:\n",
      "              precision    recall  f1-score   support\n",
      "\n",
      "           0       0.84      0.82      0.83        45\n",
      "           1       0.86      0.86      0.86        42\n",
      "           2       0.91      0.94      0.93        33\n",
      "\n",
      "    accuracy                           0.87       120\n",
      "   macro avg       0.87      0.87      0.87       120\n",
      "weighted avg       0.87      0.87      0.87       120\n",
      "\n"
     ]
    }
   ],
   "source": [
    "from sklearn.metrics import classification_report, ConfusionMatrixDisplay\n",
    "import matplotlib.pyplot as plt\n",
    "\n",
    "# Binary classification report (includes sensitivity/specificity)\n",
    "print(\"Binary Classification Report:\")\n",
    "print(classification_report(y_test, rf_pred, target_names=['No Disease', 'Has Disease']))\n",
    "\n",
    "# Visual confusion matrix\n",
    "fig, (ax1, ax2) = plt.subplots(1, 2, figsize=(12, 4))\n",
    "\n",
    "ConfusionMatrixDisplay.from_predictions(y_test, rf_pred, ax=ax1)\n",
    "ax1.set_title('Binary Classification\\n(Random Forest)')\n",
    "\n",
    "ConfusionMatrixDisplay.from_predictions(y_test_m, pred_multi, ax=ax2)\n",
    "ax2.set_title('Multi-class Classification\\n(3 Classes)')\n",
    "\n",
    "plt.tight_layout()\n",
    "plt.show()\n",
    "\n",
    "# Multi-class classification report\n",
    "print(\"\\nMulti-class Classification Report:\")\n",
    "print(classification_report(y_test_m, pred_multi))\n"
   ]
  }
 ],
 "metadata": {
  "kernelspec": {
   "display_name": "base",
   "language": "python",
   "name": "python3"
  },
  "language_info": {
   "codemirror_mode": {
    "name": "ipython",
    "version": 3
   },
   "file_extension": ".py",
   "mimetype": "text/x-python",
   "name": "python",
   "nbconvert_exporter": "python",
   "pygments_lexer": "ipython3",
   "version": "3.12.3"
  }
 },
 "nbformat": 4,
 "nbformat_minor": 5
}

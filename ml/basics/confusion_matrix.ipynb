{
 "cells": [
  {
   "cell_type": "markdown",
   "metadata": {},
   "source": [
    "# Confusion Matrix, Sensitivity & Specificity\n",
    "\n",
    "- StatQuest Videos: \n",
    "  - Confusion Matrix: https://youtu.be/Kdsp6soqA7o\n",
    "  - Sensitivity & Specificity: https://youtu.be/vP06aMoz4v8\n",
    "- SKLearn Docs: https://scikit-learn.org/stable/modules/model_evaluation.html\n",
    "\n",
    "The confusion matrix shows what your machine learning algorithm predicted vs. the known truth. It helps evaluate and compare different ML methods by summarizing their performance on test data.\n",
    "\n",
    "**⚠️ Convention Note**: StatQuest videos use \"Rows = predictions, Columns = actual truth\" but **sklearn uses the opposite**: \"Rows = actual truth, Columns = predictions\". This notebook follows sklearn's convention."
   ]
  },
  {
   "cell_type": "code",
   "execution_count": 6,
   "metadata": {},
   "outputs": [
    {
     "data": {
      "text/plain": [
       "((210, 4), (90, 4), (210,), (90,))"
      ]
     },
     "execution_count": 6,
     "metadata": {},
     "output_type": "execute_result"
    }
   ],
   "source": [
    "from sklearn.datasets import make_classification\n",
    "from sklearn.model_selection import train_test_split\n",
    "\n",
    "X, y = make_classification(n_samples=300, n_features=4, n_classes=2, \n",
    "                          n_redundant=0, random_state=42)\n",
    "\n",
    "# Split into train/test\n",
    "X_train, X_test, y_train, y_test = train_test_split(\n",
    "    X, y, \n",
    "    test_size=0.3, \n",
    "    random_state=42\n",
    ")\n",
    "\n",
    "X_train.shape, X_test.shape, y_train.shape, y_test.shape"
   ]
  },
  {
   "cell_type": "code",
   "execution_count": 7,
   "metadata": {},
   "outputs": [
    {
     "data": {
      "text/plain": [
       "((90,), (90,))"
      ]
     },
     "execution_count": 7,
     "metadata": {},
     "output_type": "execute_result"
    }
   ],
   "source": [
    "from sklearn.ensemble import RandomForestClassifier\n",
    "from sklearn.linear_model import LogisticRegression\n",
    "\n",
    "lr = LogisticRegression(random_state=42).fit(X_train, y_train)\n",
    "rf = RandomForestClassifier(random_state=42).fit(X_train, y_train)\n",
    "\n",
    "y_pred_lr = lr.predict(X_test)\n",
    "y_pred_rf = rf.predict(X_test)\n",
    "\n",
    "y_pred_lr.shape, y_pred_rf.shape"
   ]
  },
  {
   "cell_type": "markdown",
   "metadata": {},
   "source": [
    "### Binary Classification Confusion Matrix\n",
    "\n",
    "**Important**: Sklearn uses **Rows = True labels, Columns = Predicted labels** (opposite of StatQuest videos!)\n",
    "\n",
    "For 2-class problems (e.g., has disease / no disease) in sklearn:\n",
    "- **True Negatives (TN)**: Top-left [0,0] - correctly predicted negative cases  \n",
    "- **False Positives (FP)**: Top-right [0,1] - incorrectly predicted positive cases (Type I error)\n",
    "- **False Negatives (FN)**: Bottom-left [1,0] - missed positive cases (Type II error)\n",
    "- **True Positives (TP)**: Bottom-right [1,1] - correctly predicted positive cases\n",
    "\n",
    "Diagonal elements = correct predictions, off-diagonal = mistakes"
   ]
  },
  {
   "cell_type": "code",
   "execution_count": 8,
   "metadata": {},
   "outputs": [
    {
     "name": "stdout",
     "output_type": "stream",
     "text": [
      "[[40  2]\n",
      " [ 3 45]]\n",
      "\n",
      "TP: 45, TN: 40, FP: 2, FN: 3\n"
     ]
    }
   ],
   "source": [
    "from sklearn.metrics import confusion_matrix\n",
    "\n",
    "cm = confusion_matrix(y_test, y_pred_lr)\n",
    "\n",
    "print(cm)\n",
    "print(f\"\\nTP: {cm[1,1]}, TN: {cm[0,0]}, FP: {cm[0,1]}, FN: {cm[1,0]}\")"
   ]
  },
  {
   "cell_type": "code",
   "execution_count": 9,
   "metadata": {},
   "outputs": [
    {
     "data": {
      "image/png": "[encoded data removed]",
      "text/plain": [
       "<Figure size 640x480 with 2 Axes>"
      ]
     },
     "metadata": {},
     "output_type": "display_data"
    }
   ],
   "source": [
    "from sklearn.metrics import ConfusionMatrixDisplay\n",
    "\n",
    "_ = ConfusionMatrixDisplay.from_predictions(y_test, y_pred_lr)"
   ]
  },
  {
   "cell_type": "code",
   "execution_count": null,
   "metadata": {},
   "outputs": [],
   "source": []
  }
 ],
 "metadata": {
  "kernelspec": {
   "display_name": ".venv",
   "language": "python",
   "name": "python3"
  },
  "language_info": {
   "codemirror_mode": {
    "name": "ipython",
    "version": 3
   },
   "file_extension": ".py",
   "mimetype": "text/x-python",
   "name": "python",
   "nbconvert_exporter": "python",
   "pygments_lexer": "ipython3",
   "version": "3.12.1"
  }
 },
 "nbformat": 4,
 "nbformat_minor": 2
}
